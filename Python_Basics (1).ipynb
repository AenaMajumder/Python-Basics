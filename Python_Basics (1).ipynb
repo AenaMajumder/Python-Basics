{
  "nbformat": 4,
  "nbformat_minor": 0,
  "metadata": {
    "colab": {
      "provenance": []
    },
    "kernelspec": {
      "name": "python3",
      "display_name": "Python 3"
    },
    "language_info": {
      "name": "python"
    }
  },
  "cells": [
    {
      "cell_type": "code",
      "execution_count": null,
      "metadata": {
        "id": "2d9E964mQRAA"
      },
      "outputs": [],
      "source": [
        "## Theory Questions"
      ]
    },
    {
      "cell_type": "markdown",
      "source": [
        "1. What is Python, and why is it popular?\n",
        "\n",
        "ans- Python is a popular programming language that's easy to use, able to do many different things, and beginner-friendly.\n",
        "     Pythin is popular because it's easy to learn , with a simple syntax, english based commands. It also has a vast community and resources.\n",
        "\n",
        "2. What is an interpreter in Python?\n",
        "\n",
        "ans- A Python interpreter is a computer program that translates Python code into machine code so that a computer can understand and execute it.\n",
        "\n",
        "3. What are pre-defined keywords in Python?\n",
        "\n",
        "ans- Python Keywords are some predefined and reserved words in Python that have special meanings. Keywords are used to define the syntax of the coding. The keyword cannot be used as an identifier, function, or variable name. All the keywords in Python are written in lowercase except True and False.\n",
        "\n",
        "4. Can keywords be used as variable names?\n",
        "\n",
        "ans- No.\n",
        "\n",
        "5. What is mutability in Python?\n",
        "\n",
        "ans- In python, mutability means to the  ability of an object to change after it has been created.\n",
        "\n",
        "6. Why are lists mutable, but tuples are immutable?\n",
        "\n",
        "ans- In lists, the contents can be changed or modified after creation. And, in tuples the contents can not be changed or modified.\n",
        "\n",
        "7. What is the difference between “==” and “is” operators in Python?\n",
        "\n",
        "ans- In Python, the main difference between the \"==\" and \"is\" operators is that \"==\" compares the equality of objects, while \"is\" compares the identity of objects.\n",
        "\n",
        "8. What are logical operators in Python?\n",
        "\n",
        "ans- AND, NOT, OR.\n",
        "\n",
        "9. What is type casting in Python?\n",
        "\n",
        "ans- Type Casting is the method to convert the Python variable datatype into a certain data type in order to perform the required operation by users.\n",
        "\n",
        "10. What is the difference between implicit and explicit type casting?\n",
        "\n",
        "ans- The difference between implicit and explicit type casting is that implicit type casting is automatic, while explicit type casting is manual.\n",
        "\n",
        "11. What is the purpose of conditional statements in Python?\n",
        "\n",
        "ans- The purpose of conditional statements in python  is to control the flow of a program by making decisions based on certain conditions.\n",
        "\n",
        "12. How does the elif statement work?\n",
        "\n",
        "ans- The elif statement works in such a way that,  if the first condition is false, it moves on to the next “elif” statement to check if that condition is true.\n",
        "\n",
        "13. What is the difference between for and while loops?\n",
        "\n",
        "ans- The difference between a \"for loop\" and a \"while loop\" is that a \"for loop\" is used when you know how many times you want to repeat a block of code, while a \"while loop\" is used when you don't know how many times you want to repeat it.\n",
        "\n",
        "14. Describe a scenario where a while loop is more suitable than a for loop.\n",
        "\n",
        "ans- \"for loop\" are generally preferred for iterating over known sequences (like lists, tuples, strings), \"while loop\" provide more flexibility for scenarios where the number of iterations is uncertain or depends on a changing condition."
      ],
      "metadata": {
        "id": "EhIzSXvgUNri"
      }
    },
    {
      "cell_type": "code",
      "source": [
        "## Practical Questions"
      ],
      "metadata": {
        "id": "FQr9FVdT5BDF"
      },
      "execution_count": null,
      "outputs": []
    },
    {
      "cell_type": "markdown",
      "source": [
        "1. Write a Python program to print \"Hello, World!\""
      ],
      "metadata": {
        "id": "Oul5ZH6i6qs7"
      }
    },
    {
      "cell_type": "code",
      "source": [
        "print(\"Hello, World!\")"
      ],
      "metadata": {
        "colab": {
          "base_uri": "https://localhost:8080/"
        },
        "id": "CT3lLB3a6vQo",
        "outputId": "8fc218c9-56e4-45f3-e53f-3e64be36bab2"
      },
      "execution_count": 1,
      "outputs": [
        {
          "output_type": "stream",
          "name": "stdout",
          "text": [
            "Hello, World!\n"
          ]
        }
      ]
    },
    {
      "cell_type": "markdown",
      "source": [
        "2. Write a Python program that displays your name and age."
      ],
      "metadata": {
        "id": "lyNSrZto7Ref"
      }
    },
    {
      "cell_type": "code",
      "source": [
        "name = \"aena\"\n",
        "age = 27\n",
        "\n",
        "print(\"My name is\", name, \"and I am\", age, \"years old.\")"
      ],
      "metadata": {
        "colab": {
          "base_uri": "https://localhost:8080/"
        },
        "id": "MezLo7Ms6471",
        "outputId": "b15842fd-e223-403c-96d0-f567f8115b67"
      },
      "execution_count": 2,
      "outputs": [
        {
          "output_type": "stream",
          "name": "stdout",
          "text": [
            "My name is aena and I am 27 years old.\n"
          ]
        }
      ]
    },
    {
      "cell_type": "markdown",
      "source": [
        "3. Write code to print all the pre-defined keywords in Python using the keyword library"
      ],
      "metadata": {
        "id": "IFPuPe0s7thp"
      }
    },
    {
      "cell_type": "code",
      "source": [
        "import keyword\n",
        "\n",
        "print(\"List of Python keywords:\")\n",
        "for word in keyword.kwlist:\n",
        "    print(word)"
      ],
      "metadata": {
        "colab": {
          "base_uri": "https://localhost:8080/"
        },
        "id": "jSG-8_d_6zUM",
        "outputId": "0dc58823-4062-4020-b883-96e363df2ad6"
      },
      "execution_count": 3,
      "outputs": [
        {
          "output_type": "stream",
          "name": "stdout",
          "text": [
            "List of Python keywords:\n",
            "False\n",
            "None\n",
            "True\n",
            "and\n",
            "as\n",
            "assert\n",
            "async\n",
            "await\n",
            "break\n",
            "class\n",
            "continue\n",
            "def\n",
            "del\n",
            "elif\n",
            "else\n",
            "except\n",
            "finally\n",
            "for\n",
            "from\n",
            "global\n",
            "if\n",
            "import\n",
            "in\n",
            "is\n",
            "lambda\n",
            "nonlocal\n",
            "not\n",
            "or\n",
            "pass\n",
            "raise\n",
            "return\n",
            "try\n",
            "while\n",
            "with\n",
            "yield\n"
          ]
        }
      ]
    },
    {
      "cell_type": "markdown",
      "source": [
        "4. Write a program that checks if a given word is a Python keyword."
      ],
      "metadata": {
        "id": "FzGKEJ1G8IFg"
      }
    },
    {
      "cell_type": "code",
      "source": [
        "import keyword\n",
        "\n",
        "def is_keyword(word):\n",
        "    return keyword.iskeyword(word)\n",
        "\n",
        "# Get input from the user\n",
        "word = input(\"Enter a word: \")\n",
        "\n",
        "# Check if the word is a keyword\n",
        "if is_keyword(word):\n",
        "    print(f\"'{word}' is a Python keyword.\")\n",
        "else:\n",
        "    print(f\"'{word}' is not a Python keyword.\")"
      ],
      "metadata": {
        "colab": {
          "base_uri": "https://localhost:8080/"
        },
        "id": "TQtv7W_P8Hxs",
        "outputId": "68f0827e-bdfa-4bdc-fbae-cb54c5607f7f"
      },
      "execution_count": 7,
      "outputs": [
        {
          "output_type": "stream",
          "name": "stdout",
          "text": [
            "Enter a word: pass\n",
            "'pass' is a Python keyword.\n"
          ]
        }
      ]
    },
    {
      "cell_type": "markdown",
      "source": [
        "5. Create a list and tuple in Python, and demonstrate how attempting to change an element works differently for each"
      ],
      "metadata": {
        "id": "8PN7g5GG_mZE"
      }
    },
    {
      "cell_type": "code",
      "source": [
        "# Create a list\n",
        "my_list = [1, 2, 3]\n",
        "\n",
        "# Change an element in the list\n",
        "my_list[0] = 10\n",
        "\n",
        "print(\"Modified list:\", my_list)"
      ],
      "metadata": {
        "colab": {
          "base_uri": "https://localhost:8080/"
        },
        "id": "dTemg3MGAAUG",
        "outputId": "9178bf14-2e19-48f5-a43d-bce329646a1c"
      },
      "execution_count": 8,
      "outputs": [
        {
          "output_type": "stream",
          "name": "stdout",
          "text": [
            "Modified list: [10, 2, 3]\n"
          ]
        }
      ]
    },
    {
      "cell_type": "code",
      "source": [
        "# Create a tuple\n",
        "my_tuple = (1, 2, 3)\n",
        "\n",
        "# Attempt to change an element in the tuple (will raise an error)\n",
        "try:\n",
        "    my_tuple[0] = 10\n",
        "except TypeError as e:\n",
        "    print(f\"Error: {e}\")"
      ],
      "metadata": {
        "colab": {
          "base_uri": "https://localhost:8080/"
        },
        "id": "CL1IgxuE79_4",
        "outputId": "d07b6aef-ac7e-45e4-ddd5-f1037f18d7ce"
      },
      "execution_count": 9,
      "outputs": [
        {
          "output_type": "stream",
          "name": "stdout",
          "text": [
            "Error: 'tuple' object does not support item assignment\n"
          ]
        }
      ]
    },
    {
      "cell_type": "markdown",
      "source": [
        "6. Write a function to demonstrate the behavior of mutable and immutable arguments"
      ],
      "metadata": {
        "id": "-IxbpyieAN8x"
      }
    },
    {
      "cell_type": "code",
      "source": [
        "def modify_data(data):\n",
        "  if isinstance(data, list):\n",
        "    # Lists are mutable\n",
        "    data.append(4)\n",
        "    print(\"Inside the function (list):\", data)\n",
        "\n",
        "  elif isinstance(data, tuple):\n",
        "    # Tuples are immutable\n",
        "    try:\n",
        "      data += (4,)\n",
        "    except TypeError as e:\n",
        "      print(\"Inside the function (tuple):\", e)\n",
        "\n",
        "  elif isinstance(data, int):\n",
        "    # Integers are immutable\n",
        "    try:\n",
        "      data = data + 1\n",
        "    except TypeError as e:\n",
        "      print(\"Inside the function (int):\", e)\n",
        "\n",
        "# Test with a list\n",
        "my_list = [1, 2, 3]\n",
        "modify_data(my_list)\n",
        "print(\"Outside the function (list):\", my_list)\n",
        "\n",
        "# Test with a tuple\n",
        "my_tuple = (1, 2, 3)\n",
        "modify_data(my_tuple)\n",
        "print(\"Outside the function (tuple):\", my_tuple)\n",
        "\n",
        "# Test with an integer\n",
        "my_int = 5\n",
        "modify_data(my_int)\n",
        "print(\"Outside the function (int):\", my_int)"
      ],
      "metadata": {
        "colab": {
          "base_uri": "https://localhost:8080/"
        },
        "id": "Y-bz5aq0AK55",
        "outputId": "97951c2b-3e5b-47bb-beb6-fde1302b6087"
      },
      "execution_count": 11,
      "outputs": [
        {
          "output_type": "stream",
          "name": "stdout",
          "text": [
            "Inside the function (list): [1, 2, 3, 4]\n",
            "Outside the function (list): [1, 2, 3, 4]\n",
            "Outside the function (tuple): (1, 2, 3)\n",
            "Outside the function (int): 5\n"
          ]
        }
      ]
    },
    {
      "cell_type": "markdown",
      "source": [
        "7. Write a function to demonstrate the behavior of mutable and immutable arguments"
      ],
      "metadata": {
        "id": "em_QkBsFD9Xn"
      }
    },
    {
      "cell_type": "code",
      "source": [
        "def modify_data(data):\n",
        "  if isinstance(data, list):\n",
        "    # Lists are mutable\n",
        "    data.append(4)\n",
        "    print(\"Inside the function (list):\", data)\n",
        "\n",
        "  elif isinstance(data, tuple):\n",
        "    # Tuples are immutable\n",
        "    try:\n",
        "      data += (4,)\n",
        "    except TypeError as e:\n",
        "      print(\"Inside the function (tuple):\", e)\n",
        "\n",
        "  elif isinstance(data, int):\n",
        "    # Integers are immutable\n",
        "    try:\n",
        "      data = data + 1\n",
        "    except TypeError as e:\n",
        "      print(\"Inside the function (int):\", e)\n",
        "\n",
        "# Test with a list\n",
        "my_list = [1, 2, 3]\n",
        "modify_data(my_list)\n",
        "print(\"Outside the function (list):\", my_list)\n",
        "\n",
        "# Test with a tuple\n",
        "my_tuple = (1, 2, 3)\n",
        "modify_data(my_tuple)\n",
        "print(\"Outside the function (tuple):\", my_tuple)\n",
        "\n",
        "# Test with an integer\n",
        "my_int = 5\n",
        "modify_data(my_int)\n",
        "print(\"Outside the function (int):\", my_int)"
      ],
      "metadata": {
        "colab": {
          "base_uri": "https://localhost:8080/"
        },
        "id": "UT4Mg_yzCvpr",
        "outputId": "120144b0-3bc6-4496-9ad9-619785009ad7"
      },
      "execution_count": 12,
      "outputs": [
        {
          "output_type": "stream",
          "name": "stdout",
          "text": [
            "Inside the function (list): [1, 2, 3, 4]\n",
            "Outside the function (list): [1, 2, 3, 4]\n",
            "Outside the function (tuple): (1, 2, 3)\n",
            "Outside the function (int): 5\n"
          ]
        }
      ]
    },
    {
      "cell_type": "markdown",
      "source": [
        "8. Write a program to demonstrate the use of logical operators"
      ],
      "metadata": {
        "id": "uqEnTM73EXV4"
      }
    },
    {
      "cell_type": "code",
      "source": [
        "def logical_operators_demo():\n",
        "\n",
        "    a = True\n",
        "    b = False\n",
        "\n",
        "    # AND operator (both conditions must be True)\n",
        "    print(\"a and b:\", a and b)\n",
        "\n",
        "    # OR operator (at least one condition must be True)\n",
        "    print(\"a or b:\", a or b)  # Output: True\n",
        "\n",
        "    # NOT operator (reverses the boolean value)\n",
        "    print(\"not a:\", not a)\n",
        "    print(\"not b:\", not b)\n",
        "\n",
        "if __name__ == \"__main__\":\n",
        "    logical_operators_demo()"
      ],
      "metadata": {
        "colab": {
          "base_uri": "https://localhost:8080/"
        },
        "id": "PXpCLDJ1EV-T",
        "outputId": "b47bcb65-541e-40b7-a093-d3e79395b573"
      },
      "execution_count": 19,
      "outputs": [
        {
          "output_type": "stream",
          "name": "stdout",
          "text": [
            "a and b: False\n",
            "a or b: True\n",
            "not a: False\n",
            "not b: True\n"
          ]
        }
      ]
    },
    {
      "cell_type": "markdown",
      "source": [
        "9. Write a Python program to convert user input from string to integer, float, and boolean types"
      ],
      "metadata": {
        "id": "qb9D8JDjGE-t"
      }
    },
    {
      "cell_type": "code",
      "source": [
        "def convert_input(user_input):\n",
        "\n",
        "    try:\n",
        "        integer_value = int(user_input)\n",
        "    except ValueError:\n",
        "        integer_value = None\n",
        "\n",
        "    try:\n",
        "        float_value = float(user_input)\n",
        "    except ValueError:\n",
        "        float_value = None\n",
        "\n",
        "    boolean_value = user_input.lower() in ['true', 't', 'yes', 'y', '1']\n",
        "\n",
        "    return integer_value, float_value, boolean_value\n",
        "\n",
        "\n",
        "# Get user input\n",
        "user_input = input(\"Enter a value: \")\n",
        "\n",
        "# Convert and print results\n",
        "integer, float_value, boolean = convert_input(user_input)\n",
        "\n",
        "print(f\"Integer: {integer}\")\n",
        "print(f\"Float: {float_value}\")\n",
        "print(f\"Boolean: {boolean}\")"
      ],
      "metadata": {
        "colab": {
          "base_uri": "https://localhost:8080/"
        },
        "id": "KTkVAauYFJgT",
        "outputId": "17f82e9c-c575-4a63-d5fb-a8baec29aa1a"
      },
      "execution_count": 24,
      "outputs": [
        {
          "output_type": "stream",
          "name": "stdout",
          "text": [
            "Enter a value: 13\n",
            "Integer: 13\n",
            "Float: 13.0\n",
            "Boolean: False\n"
          ]
        }
      ]
    },
    {
      "cell_type": "markdown",
      "source": [
        "10. Write code to demonstrate type casting with list elements"
      ],
      "metadata": {
        "id": "C1EddNMzHFxe"
      }
    },
    {
      "cell_type": "code",
      "source": [
        "my_list = [1, 2.5, \"three\", True]\n",
        "\n",
        "# Type casting to integers\n",
        "integers = [int(item) for item in my_list if isinstance(item, (int, float))]\n",
        "print(\"Integers:\", integers)\n",
        "\n",
        "# Type casting to strings\n",
        "strings = [str(item) for item in my_list]\n",
        "print(\"Strings:\", strings)\n",
        "\n",
        "# Type casting to floats\n",
        "floats = [float(item) for item in my_list if isinstance(item, (int, float))]\n",
        "print(\"Floats:\", floats)\n",
        "\n",
        "# Type casting to booleans\n",
        "booleans = [bool(item) for item in my_list]\n",
        "print(\"Booleans:\", booleans)"
      ],
      "metadata": {
        "colab": {
          "base_uri": "https://localhost:8080/"
        },
        "id": "DnfoB2TkGkrl",
        "outputId": "5fc5b541-5655-45e5-9cb1-4835429bfcee"
      },
      "execution_count": 26,
      "outputs": [
        {
          "output_type": "stream",
          "name": "stdout",
          "text": [
            "Integers: [1, 2, 1]\n",
            "Strings: ['1', '2.5', 'three', 'True']\n",
            "Floats: [1.0, 2.5, 1.0]\n",
            "Booleans: [True, True, True, True]\n"
          ]
        }
      ]
    },
    {
      "cell_type": "markdown",
      "source": [
        "11. Write a program that checks if a number is positive, negative, or zero"
      ],
      "metadata": {
        "id": "Y-IIXdllHsCH"
      }
    },
    {
      "cell_type": "code",
      "source": [
        "def check_number(num):\n",
        "\n",
        "    if num > 0:\n",
        "        return \"Positive\"\n",
        "    elif num < 0:\n",
        "        return \"Negative\"\n",
        "    else:\n",
        "        return \"Zero\"\n",
        "\n",
        "number = float(input(\"Enter a number: \"))\n",
        "\n",
        "result = check_number(number)\n",
        "print(f\"The number {number} is {result}.\")"
      ],
      "metadata": {
        "colab": {
          "base_uri": "https://localhost:8080/"
        },
        "id": "H4bJnYHUHhV3",
        "outputId": "1882ad0c-b6be-4264-bbc8-8220fd54bba6"
      },
      "execution_count": 31,
      "outputs": [
        {
          "output_type": "stream",
          "name": "stdout",
          "text": [
            "Enter a number: 12\n",
            "The number 12.0 is Positive.\n"
          ]
        }
      ]
    },
    {
      "cell_type": "code",
      "source": [
        "def check_number(num):\n",
        "\n",
        "    if num > 0:\n",
        "        return \"Positive\"\n",
        "    elif num < 0:\n",
        "        return \"Negative\"\n",
        "    else:\n",
        "        return \"Zero\"\n",
        "\n",
        "number = float(input(\"Enter a number: \"))\n",
        "\n",
        "result = check_number(number)\n",
        "print(f\"The number {number} is {result}.\")"
      ],
      "metadata": {
        "colab": {
          "base_uri": "https://localhost:8080/"
        },
        "id": "XqpCgHkYH__S",
        "outputId": "d97edf62-3bbf-404c-f97b-56250b8085b5"
      },
      "execution_count": 32,
      "outputs": [
        {
          "output_type": "stream",
          "name": "stdout",
          "text": [
            "Enter a number: -54\n",
            "The number -54.0 is Negative.\n"
          ]
        }
      ]
    },
    {
      "cell_type": "code",
      "source": [
        "def check_number(num):\n",
        "\n",
        "    if num > 0:\n",
        "        return \"Positive\"\n",
        "    elif num < 0:\n",
        "        return \"Negative\"\n",
        "    else:\n",
        "        return \"Zero\"\n",
        "\n",
        "number = float(input(\"Enter a number: \"))\n",
        "\n",
        "result = check_number(number)\n",
        "print(f\"The number {number} is {result}.\")"
      ],
      "metadata": {
        "colab": {
          "base_uri": "https://localhost:8080/"
        },
        "id": "woel8wkMIQSE",
        "outputId": "e629f9f6-0e60-48b5-ce0d-2d24e2ca976e"
      },
      "execution_count": 33,
      "outputs": [
        {
          "output_type": "stream",
          "name": "stdout",
          "text": [
            "Enter a number: 0\n",
            "The number 0.0 is Zero.\n"
          ]
        }
      ]
    },
    {
      "cell_type": "markdown",
      "source": [
        "12. Write a for loop to print numbers from 1 to 10"
      ],
      "metadata": {
        "id": "KV-McnboIWAq"
      }
    },
    {
      "cell_type": "code",
      "source": [
        "for i in range(1, 11):\n",
        "  print(i)"
      ],
      "metadata": {
        "colab": {
          "base_uri": "https://localhost:8080/"
        },
        "id": "PSCIAHsSIS0O",
        "outputId": "cdd3fca0-9ffb-4209-9d42-b8d7e55dc37d"
      },
      "execution_count": 34,
      "outputs": [
        {
          "output_type": "stream",
          "name": "stdout",
          "text": [
            "1\n",
            "2\n",
            "3\n",
            "4\n",
            "5\n",
            "6\n",
            "7\n",
            "8\n",
            "9\n",
            "10\n"
          ]
        }
      ]
    },
    {
      "cell_type": "markdown",
      "source": [
        "13. Write a Python program to find the sum of all even numbers between 1 and 50"
      ],
      "metadata": {
        "id": "iCi9JdMlIhaC"
      }
    },
    {
      "cell_type": "code",
      "source": [
        "sum_of_even_numbers = 0\n",
        "\n",
        "for i in range(2, 51, 2):\n",
        "    sum_of_even_numbers += i\n",
        "\n",
        "print(\"Sum of even numbers between 1 and 50:\", sum_of_even_numbers)"
      ],
      "metadata": {
        "colab": {
          "base_uri": "https://localhost:8080/"
        },
        "id": "45IvWhJnIe46",
        "outputId": "58307547-74a8-4c7e-8b6d-5560ca88f266"
      },
      "execution_count": 35,
      "outputs": [
        {
          "output_type": "stream",
          "name": "stdout",
          "text": [
            "Sum of even numbers between 1 and 50: 650\n"
          ]
        }
      ]
    },
    {
      "cell_type": "markdown",
      "source": [
        "14. Write a program to reverse a string using a while loop"
      ],
      "metadata": {
        "id": "vSIbeGdMJDAt"
      }
    },
    {
      "cell_type": "code",
      "source": [
        "def reverse_string(s):\n",
        "\n",
        "    reversed_str = \"\"\n",
        "    index = len(s) - 1\n",
        "\n",
        "    while index >= 0:\n",
        "        reversed_str += s[index]\n",
        "        index -= 1\n",
        "\n",
        "    return reversed_str\n",
        "\n",
        "input_str = input(\"Enter a string: \")\n",
        "\n",
        "reversed_str = reverse_string(input_str)\n",
        "print(\"Original string:\", input_str)\n",
        "print(\"Reversed string:\", reversed_str)"
      ],
      "metadata": {
        "colab": {
          "base_uri": "https://localhost:8080/"
        },
        "id": "5UxEiOPNI1y8",
        "outputId": "8839462e-4b97-4b0a-cd47-4b0263ee827e"
      },
      "execution_count": 37,
      "outputs": [
        {
          "output_type": "stream",
          "name": "stdout",
          "text": [
            "Enter a string: majumder\n",
            "Original string: majumder\n",
            "Reversed string: redmujam\n"
          ]
        }
      ]
    },
    {
      "cell_type": "markdown",
      "source": [
        "15. Write a Python program to calculate the factorial of a number provided by the user using a while loop"
      ],
      "metadata": {
        "id": "JdX-6sOoJlMB"
      }
    },
    {
      "cell_type": "code",
      "source": [
        "def factorial_while_loop(n):\n",
        "\n",
        "  if n < 0:\n",
        "    return \"Factorial is not defined for negative numbers.\"\n",
        "\n",
        "  factorial = 1\n",
        "  while n > 1:\n",
        "    factorial *= n\n",
        "    n -= 1\n",
        "  return factorial\n",
        "\n",
        "num = int(input(\"Enter a non-negative integer: \"))\n",
        "\n",
        "result = factorial_while_loop(num)\n",
        "\n",
        "print(\"Factorial of\", num, \"is\", result)"
      ],
      "metadata": {
        "colab": {
          "base_uri": "https://localhost:8080/"
        },
        "id": "79TnUc8kJWyM",
        "outputId": "5be0d010-1432-4e2d-c57f-82cf6998b166"
      },
      "execution_count": 41,
      "outputs": [
        {
          "output_type": "stream",
          "name": "stdout",
          "text": [
            "Enter a non-negative integer: 5\n",
            "Factorial of 5 is 120\n"
          ]
        }
      ]
    },
    {
      "cell_type": "code",
      "source": [],
      "metadata": {
        "id": "nqsAMISrKApG"
      },
      "execution_count": 41,
      "outputs": []
    }
  ]
}