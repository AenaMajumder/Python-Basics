{
  "nbformat": 4,
  "nbformat_minor": 0,
  "metadata": {
    "colab": {
      "provenance": []
    },
    "kernelspec": {
      "name": "python3",
      "display_name": "Python 3"
    },
    "language_info": {
      "name": "python"
    }
  },
  "cells": [
    {
      "cell_type": "code",
      "execution_count": null,
      "metadata": {
        "id": "2d9E964mQRAA"
      },
      "outputs": [],
      "source": []
    },
    {
      "cell_type": "markdown",
      "source": [
        "1. What is Python, and why is it popular?\n",
        "\n",
        "ans- Python is a popular programming language that's easy to use, able to do many different things, and beginner-friendly.\n",
        "     Pythin is popular because it's easy to learn , with a simple syntax, english based commands. It also has a vast community and resources.\n",
        "\n",
        "2. What is an interpreter in Python?\n",
        "\n",
        "ans- A Python interpreter is a computer program that translates Python code into machine code so that a computer can understand and execute it.\n",
        "\n",
        "3. What are pre-defined keywords in Python?\n",
        "\n",
        "ans- Python Keywords are some predefined and reserved words in Python that have special meanings. Keywords are used to define the syntax of the coding. The keyword cannot be used as an identifier, function, or variable name. All the keywords in Python are written in lowercase except True and False.\n",
        "\n",
        "4. Can keywords be used as variable names?\n",
        "\n",
        "ans- No.\n",
        "\n",
        "5. What is mutability in Python?\n",
        "\n",
        "ans- In python, mutability means to the  ability of an object to change after it has been created.\n",
        "\n",
        "6. Why are lists mutable, but tuples are immutable?\n",
        "\n",
        "ans- In lists, the contents can be changed or modified after creation. And, in tuples the contents can not be changed or modified.\n",
        "\n",
        "7. What is the difference between “==” and “is” operators in Python?\n",
        "\n",
        "ans- In Python, the main difference between the \"==\" and \"is\" operators is that \"==\" compares the equality of objects, while \"is\" compares the identity of objects.\n",
        "\n",
        "8. What are logical operators in Python?\n",
        "\n",
        "ans- AND, NOT, OR.\n",
        "\n",
        "9. What is type casting in Python?\n",
        "\n",
        "ans- Type Casting is the method to convert the Python variable datatype into a certain data type in order to perform the required operation by users.\n",
        "\n",
        "10. What is the difference between implicit and explicit type casting?\n",
        "\n",
        "ans- The difference between implicit and explicit type casting is that implicit type casting is automatic, while explicit type casting is manual.\n",
        "\n",
        "11. What is the purpose of conditional statements in Python?\n",
        "\n",
        "ans- The purpose of conditional statements in python  is to control the flow of a program by making decisions based on certain conditions.\n",
        "\n",
        "12. How does the elif statement work?\n",
        "\n",
        "ans- The elif statement works in such a way that,  if the first condition is false, it moves on to the next “elif” statement to check if that condition is true.\n",
        "\n",
        "13. What is the difference between for and while loops?\n",
        "\n",
        "ans- The difference between a \"for loop\" and a \"while loop\" is that a \"for loop\" is used when you know how many times you want to repeat a block of code, while a \"while loop\" is used when you don't know how many times you want to repeat it.\n",
        "\n",
        "14. Describe a scenario where a while loop is more suitable than a for loop.\n",
        "\n",
        "ans- \"for loop\" are generally preferred for iterating over known sequences (like lists, tuples, strings), \"while loop\" provide more flexibility for scenarios where the number of iterations is uncertain or depends on a changing condition."
      ],
      "metadata": {
        "id": "EhIzSXvgUNri"
      }
    }
  ]
}